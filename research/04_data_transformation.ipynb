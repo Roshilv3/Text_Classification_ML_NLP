{
 "cells": [
  {
   "cell_type": "code",
   "execution_count": 1,
   "metadata": {},
   "outputs": [
    {
     "name": "stderr",
     "output_type": "stream",
     "text": [
      "C:\\Users\\roshi\\AppData\\Local\\Temp\\ipykernel_20392\\4249437511.py:2: DeprecationWarning: \n",
      "Pyarrow will become a required dependency of pandas in the next major release of pandas (pandas 3.0),\n",
      "(to allow more performant data types, such as the Arrow string type, and better interoperability with other libraries)\n",
      "but was not found to be installed on your system.\n",
      "If this would cause problems for you,\n",
      "please provide us feedback at https://github.com/pandas-dev/pandas/issues/54466\n",
      "        \n",
      "  import pandas as pd\n"
     ]
    }
   ],
   "source": [
    "import os\n",
    "import pandas as pd\n",
    "from pathlib import Path\n",
    "from dataclasses import dataclass"
   ]
  },
  {
   "cell_type": "code",
   "execution_count": 2,
   "metadata": {},
   "outputs": [
    {
     "data": {
      "text/plain": [
       "'c:\\\\Users\\\\roshi\\\\OneDrive\\\\Desktop\\\\Git-1\\\\Text_Classification_ML_NLP'"
      ]
     },
     "execution_count": 2,
     "metadata": {},
     "output_type": "execute_result"
    }
   ],
   "source": [
    "os.chdir(\"../\")\n",
    "%pwd"
   ]
  },
  {
   "cell_type": "code",
   "execution_count": 3,
   "metadata": {},
   "outputs": [],
   "source": [
    "@dataclass(frozen=True)\n",
    "class DataTransformationConfig:\n",
    "    root_dir: Path\n",
    "    data_dir: Path"
   ]
  },
  {
   "cell_type": "code",
   "execution_count": 4,
   "metadata": {},
   "outputs": [],
   "source": [
    "from src.text_Classification_ML.utils.common import *\n",
    "from src.text_Classification_ML.constants import *"
   ]
  },
  {
   "cell_type": "code",
   "execution_count": 5,
   "metadata": {},
   "outputs": [],
   "source": [
    "class ConfigurationManager:\n",
    "    def __init__(\n",
    "            self,\n",
    "            config_file_path = Config_File_Path,\n",
    "            schema_file_path = Schema_File_Path\n",
    "            ):\n",
    "        self.config = read_yaml(config_file_path)\n",
    "        self.schema = read_yaml(schema_file_path)\n",
    "\n",
    "        create_directories([self.config.artifacts_root])\n",
    "\n",
    "    def get_data_transformation_config(self) -> DataTransformationConfig:\n",
    "        config = self.config.data_transformation\n",
    "\n",
    "        create_directories([config.root_dir])\n",
    "\n",
    "        data_transformation_config = DataTransformationConfig(\n",
    "                root_dir= config.root_dir,\n",
    "                data_dir= config.data_dir\n",
    "            )\n",
    "\n",
    "        return data_transformation_config"
   ]
  },
  {
   "cell_type": "code",
   "execution_count": 6,
   "metadata": {},
   "outputs": [],
   "source": [
    "import numpy as np\n",
    "from sklearn.model_selection import train_test_split\n",
    "from sklearn.feature_extraction.text import TfidfVectorizer\n",
    "import scipy.sparse\n",
    "from src.text_Classification_ML.logger import logging"
   ]
  },
  {
   "cell_type": "code",
   "execution_count": 7,
   "metadata": {},
   "outputs": [],
   "source": [
    "class DataTransformation:\n",
    "    def __init__(self, config: DataTransformationConfig):\n",
    "        self.config = config\n",
    "\n",
    "    def train_test_split(self):\n",
    "        data = pd.read_csv(self.config.data_dir)\n",
    "\n",
    "        # Fill the missing values\n",
    "        data['Cleaned_Review'].fillna(\"\", inplace=True)\n",
    "\n",
    "        # Re-Maping the rating volumn\n",
    "        rating_map = {1: 1, 2: 1, 3: 2, 4: 3, 5: 3}\n",
    "        data['Rating'] = data['Rating'].map(rating_map)\n",
    "\n",
    "        # Split the data into train and test sets.\n",
    "        train, test = train_test_split(data, train_size=0.80)\n",
    "\n",
    "        # Vectorize text using TF-IDF\n",
    "        tfidf_vectorizer = TfidfVectorizer()\n",
    "        train_tfidf = tfidf_vectorizer.fit_transform(train['Cleaned_Review'])\n",
    "        test_tfidf = tfidf_vectorizer.transform(test['Cleaned_Review'])\n",
    "\n",
    "        # Save the TF-IDF matrices\n",
    "        train_tfidf_filename = os.path.join(self.config.root_dir, \"train_tfidf.csv\")\n",
    "        test_tfidf_filename = os.path.join(self.config.root_dir, \"test_tfidf.csv\")\n",
    "        scipy.sparse.save_npz(train_tfidf_filename, train_tfidf)\n",
    "        scipy.sparse.save_npz(test_tfidf_filename, test_tfidf)\n",
    "\n",
    "        # Save the train and test sets without text columns\n",
    "        train = train.drop(columns=['Cleaned_Review'])\n",
    "        test = test.drop(columns=['Cleaned_Review'])\n",
    "        train_filename = os.path.join(self.config.root_dir, \"train.csv\")\n",
    "        test_filename = os.path.join(self.config.root_dir, \"test.csv\")\n",
    "        train.to_csv(train_filename, index=False)\n",
    "        test.to_csv(test_filename, index=False)"
   ]
  },
  {
   "cell_type": "code",
   "execution_count": 8,
   "metadata": {},
   "outputs": [
    {
     "name": "stderr",
     "output_type": "stream",
     "text": [
      "C:\\Users\\roshi\\AppData\\Local\\Temp\\ipykernel_20392\\2726378033.py:9: FutureWarning: A value is trying to be set on a copy of a DataFrame or Series through chained assignment using an inplace method.\n",
      "The behavior will change in pandas 3.0. This inplace method will never work because the intermediate object on which we are setting values always behaves as a copy.\n",
      "\n",
      "For example, when doing 'df[col].method(value, inplace=True)', try using 'df.method({col: value}, inplace=True)' or df[col] = df[col].method(value) instead, to perform the operation inplace on the original object.\n",
      "\n",
      "\n",
      "  data['Cleaned_Review'].fillna(\"\", inplace=True)\n"
     ]
    }
   ],
   "source": [
    "try:\n",
    "    config = ConfigurationManager()\n",
    "    data_transformation_config = config.get_data_transformation_config()\n",
    "    data_transformation = DataTransformation(config= data_transformation_config)\n",
    "    data_transformation.train_test_split()\n",
    "except Exception as e:\n",
    "    raise e"
   ]
  },
  {
   "cell_type": "code",
   "execution_count": null,
   "metadata": {},
   "outputs": [],
   "source": []
  }
 ],
 "metadata": {
  "kernelspec": {
   "display_name": ".venv",
   "language": "python",
   "name": "python3"
  },
  "language_info": {
   "codemirror_mode": {
    "name": "ipython",
    "version": 3
   },
   "file_extension": ".py",
   "mimetype": "text/x-python",
   "name": "python",
   "nbconvert_exporter": "python",
   "pygments_lexer": "ipython3",
   "version": "3.11.6"
  }
 },
 "nbformat": 4,
 "nbformat_minor": 2
}
